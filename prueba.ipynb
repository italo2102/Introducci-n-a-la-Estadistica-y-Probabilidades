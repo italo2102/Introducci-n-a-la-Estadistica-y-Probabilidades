{
 "cells": [
  {
   "attachments": {},
   "cell_type": "markdown",
   "metadata": {},
   "source": [
    "Problema de Clique Máximo\n",
    "\n",
    "En este problema para un grafo no dirigido cualquiera $G= (V,E)$, en el cual $V={1,2,…,n}$ es el conjunto\n",
    "de los vértices del grafo y E es el conjunto de aristas, el objetivo es encontrar el subconjunto con la mayor catidad de vertices $v$ donde estos sean mutuamente adyacentes.\n",
    "   \n",
    "Por ejemplo tomando el grafo $\\mathcal{G}(n,1/2) $ el tamaño del máximo clique es probable que sea $\\log_{2}(n)$.\n",
    "   \n",
    "Para ver por que esto es cierto,notamos qe para un entero $k$ el número experado de cliques de $k$ en un grafo aleatorio de $\\mathcal{G}_(n,1/2) $ es:\n",
    "\n",
    "   ${n \\choose k}2^{-{k \\choose 2}} \\approx n^{k} 2^{-k^{2}/2}$\n",
    "   \n",
    "Esto es 1 cuando $k=\\log_{2}(n)$. Esto es que $\\log_{2}(n)$ es aaproximadamente el k más grande que se espera ver para un k-clique\n",
    "\n",
    "Algoritmo Ant Clique (AC)\n",
    "\n",
    "Los algoritmos OCH han sido utilizados para resolver diferentes problemas de\n",
    "optimización combinatoria que están clasificados dentro de los NP-Duros. La idea principal del OCH es modelar los problemas para buscar el camino de costo mínimo en un grafo.\n",
    "El algoritmo de colonia de hormigas general para el problema del clique\n",
    "máximo propuesto por Fenet y Solnon se muestra a continuación :\n",
    "\n",
    "$Inicializar$ los rastros de feromonas\n",
    "$Repetir$\n",
    "$Para$ k k en 1..nbAnts $Hacer:$ construya el clique k C\n",
    "$Actualizar$ los rastros de feromonas w.r.t. { 1 C , . . . , nbAnts C }\n",
    "$Hasta$ Alcanzar el Número de Ciclos o Encontrar la solución optima\n",
    "\n",
    " Inicialización de la feromona: Las hormigas se comunican a través de la feromona la cual es depositada en las aristas del grafo. La concentración de feromona en la arista $(v_i,v_j)$ es denotada por $\\tau(v_i,v_j))$, el rastro de feromona inicial es denotada por c , aunque se puede utilizar los límites $\\tau_{min}$ o $\\tau_{max}$ los cuales están basados en el algoritmo MAX-MIN [Stutzle and Hoos 2000] con el propósito de tener una mayor exploración del espacio de búsqueda.\n",
    " Construcción de los cliques con las hormigas: Se selecciona aleatoriamente un vértice inicial, y iterativamente se escoge vértices para agregar al clique. Dentro de un conjunto de candidatos que contiene todos los vértices que están conectados con todos los vértices del clique,\n",
    " Escoger aleatoriamente el primer vértice $v_f$ ∈ $V$\n",
    "$C ← {V_f}$\n",
    "$Candidatos ← { v_i /( v_f , v_i ) \\in E}$\n",
    "Mientras $Candidato \\neq 0$ Hacer\n",
    "Escoger un vértice $v_i \\in Candidatos$ con una probabilidad $p(v_i),ver Ec. (2)$\n",
    "C ← C $\\cup {v_i}$\n",
    "$Candidatos ← Candidatos$ $\\cap v_j /(v_i,v_j) \\in E$\n",
    "Fin Mientras\n",
    "Regresa C\n",
    " \n",
    " La actualización del rastro de feromona utiliza la Ec. (1)\n",
    " \n",
    "$\\tau_{ij}(t+n) = \\rho\\tau_{ij}+\\delta\\tau_{ij}$\n",
    "\n",
    "$p(v_i) = \\frac{[\\tau c(v_i)]^\\alpha}{\\sum v_j cadidatos[\\tau c(v_j)]}$"
   ]
  },
  {
   "cell_type": "markdown",
   "metadata": {},
   "source": []
  },
  {
   "cell_type": "code",
   "execution_count": null,
   "metadata": {},
   "outputs": [],
   "source": []
  }
 ],
 "metadata": {
  "kernelspec": {
   "display_name": "R",
   "language": "R",
   "name": "ir"
  },
  "language_info": {
   "codemirror_mode": "r",
   "file_extension": ".r",
   "mimetype": "text/x-r-source",
   "name": "R",
   "pygments_lexer": "r",
   "version": "3.4.3"
  }
 },
 "nbformat": 4,
 "nbformat_minor": 2
}
